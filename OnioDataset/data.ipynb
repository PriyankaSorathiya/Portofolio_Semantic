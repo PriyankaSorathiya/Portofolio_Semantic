{
 "cells": [
  {
   "cell_type": "code",
   "execution_count": 9,
   "metadata": {},
   "outputs": [],
   "source": [
    "import pandas as pd\n",
    "import numpy as np\n",
    "import seaborn as sns\n",
    "import matplotlib.pyplot as plt\n",
    "from sklearn.feature_extraction.text import TfidfVectorizer\n",
    "from sklearn.feature_selection import chi2\n",
    "from sklearn.model_selection import train_test_split, cross_val_score\n",
    "from sklearn.naive_bayes import MultinomialNB\n",
    "from sklearn.linear_model import LogisticRegression\n",
    "from sklearn.ensemble import RandomForestClassifier\n",
    "from sklearn.svm import LinearSVC\n",
    "from sklearn.metrics import confusion_matrix, classification_report\n",
    "import warnings\n",
    "warnings.filterwarnings(\"ignore\", category=FutureWarning)"
   ]
  },
  {
   "cell_type": "code",
   "execution_count": 10,
   "metadata": {},
   "outputs": [],
   "source": [
    "# Load dataset (assuming a CSV file with 'text' and 'label' columns)\n",
    "df = pd.read_csv('OnionOrNot.csv')"
   ]
  },
  {
   "cell_type": "code",
   "execution_count": 11,
   "metadata": {},
   "outputs": [
    {
     "data": {
      "text/html": [
       "<div>\n",
       "<style scoped>\n",
       "    .dataframe tbody tr th:only-of-type {\n",
       "        vertical-align: middle;\n",
       "    }\n",
       "\n",
       "    .dataframe tbody tr th {\n",
       "        vertical-align: top;\n",
       "    }\n",
       "\n",
       "    .dataframe thead th {\n",
       "        text-align: right;\n",
       "    }\n",
       "</style>\n",
       "<table border=\"1\" class=\"dataframe\">\n",
       "  <thead>\n",
       "    <tr style=\"text-align: right;\">\n",
       "      <th></th>\n",
       "      <th>0</th>\n",
       "      <th>1</th>\n",
       "      <th>2</th>\n",
       "      <th>3</th>\n",
       "      <th>4</th>\n",
       "      <th>5</th>\n",
       "      <th>6</th>\n",
       "      <th>7</th>\n",
       "      <th>8</th>\n",
       "      <th>9</th>\n",
       "      <th>...</th>\n",
       "      <th>15</th>\n",
       "      <th>16</th>\n",
       "      <th>17</th>\n",
       "      <th>18</th>\n",
       "      <th>19</th>\n",
       "      <th>20</th>\n",
       "      <th>21</th>\n",
       "      <th>22</th>\n",
       "      <th>23</th>\n",
       "      <th>24</th>\n",
       "    </tr>\n",
       "  </thead>\n",
       "  <tbody>\n",
       "    <tr>\n",
       "      <th>text</th>\n",
       "      <td>Entire Facebook Staff Laughs As Man Tightens P...</td>\n",
       "      <td>Muslim Woman Denied Soda Can for Fear She Coul...</td>\n",
       "      <td>Bold Move: Hulu Has Announced That They’re Gon...</td>\n",
       "      <td>Despondent Jeff Bezos Realizes He’ll Have To W...</td>\n",
       "      <td>For men looking for great single women, online...</td>\n",
       "      <td>Kim Jong-Un Wonders If Nuclear Threats Distrac...</td>\n",
       "      <td>Omaha dad finds pot brownies, eats 4 of them, ...</td>\n",
       "      <td>Pokémon Go player stabbed, keeps playing</td>\n",
       "      <td>Job Placement Service Helps Students Who Fail ...</td>\n",
       "      <td>Idiot Zoo Animal With Zero Predators Still Pro...</td>\n",
       "      <td>...</td>\n",
       "      <td>Ohio parents sue their olympic gold medalist d...</td>\n",
       "      <td>Match-predicting koala sacked for poor results</td>\n",
       "      <td>Nation Demands New Photograph Of Edward Snowden</td>\n",
       "      <td>Gaunt, Hollow-Eyed Big Bird Enters Sixth Day O...</td>\n",
       "      <td>Court: 93-Year-Old Kills Wife Of 70 Years Beca...</td>\n",
       "      <td>What’s Next For Hillary Clinton?</td>\n",
       "      <td>Life: Animal Rights FTW! Popeyes Has Announced...</td>\n",
       "      <td>Man Putting Off Starting Family To Focus On Tr...</td>\n",
       "      <td>Coach’s Un-Athletic Son Going To Get Fucking R...</td>\n",
       "      <td>Deputies ask man to quit calling about his sto...</td>\n",
       "    </tr>\n",
       "    <tr>\n",
       "      <th>label</th>\n",
       "      <td>1</td>\n",
       "      <td>0</td>\n",
       "      <td>1</td>\n",
       "      <td>1</td>\n",
       "      <td>1</td>\n",
       "      <td>1</td>\n",
       "      <td>0</td>\n",
       "      <td>0</td>\n",
       "      <td>1</td>\n",
       "      <td>1</td>\n",
       "      <td>...</td>\n",
       "      <td>0</td>\n",
       "      <td>0</td>\n",
       "      <td>1</td>\n",
       "      <td>1</td>\n",
       "      <td>0</td>\n",
       "      <td>1</td>\n",
       "      <td>1</td>\n",
       "      <td>1</td>\n",
       "      <td>1</td>\n",
       "      <td>0</td>\n",
       "    </tr>\n",
       "  </tbody>\n",
       "</table>\n",
       "<p>2 rows × 25 columns</p>\n",
       "</div>"
      ],
      "text/plain": [
       "                                                      0   \\\n",
       "text   Entire Facebook Staff Laughs As Man Tightens P...   \n",
       "label                                                  1   \n",
       "\n",
       "                                                      1   \\\n",
       "text   Muslim Woman Denied Soda Can for Fear She Coul...   \n",
       "label                                                  0   \n",
       "\n",
       "                                                      2   \\\n",
       "text   Bold Move: Hulu Has Announced That They’re Gon...   \n",
       "label                                                  1   \n",
       "\n",
       "                                                      3   \\\n",
       "text   Despondent Jeff Bezos Realizes He’ll Have To W...   \n",
       "label                                                  1   \n",
       "\n",
       "                                                      4   \\\n",
       "text   For men looking for great single women, online...   \n",
       "label                                                  1   \n",
       "\n",
       "                                                      5   \\\n",
       "text   Kim Jong-Un Wonders If Nuclear Threats Distrac...   \n",
       "label                                                  1   \n",
       "\n",
       "                                                      6   \\\n",
       "text   Omaha dad finds pot brownies, eats 4 of them, ...   \n",
       "label                                                  0   \n",
       "\n",
       "                                             7   \\\n",
       "text   Pokémon Go player stabbed, keeps playing   \n",
       "label                                         0   \n",
       "\n",
       "                                                      8   \\\n",
       "text   Job Placement Service Helps Students Who Fail ...   \n",
       "label                                                  1   \n",
       "\n",
       "                                                      9   ...  \\\n",
       "text   Idiot Zoo Animal With Zero Predators Still Pro...  ...   \n",
       "label                                                  1  ...   \n",
       "\n",
       "                                                      15  \\\n",
       "text   Ohio parents sue their olympic gold medalist d...   \n",
       "label                                                  0   \n",
       "\n",
       "                                                   16  \\\n",
       "text   Match-predicting koala sacked for poor results   \n",
       "label                                               0   \n",
       "\n",
       "                                                    17  \\\n",
       "text   Nation Demands New Photograph Of Edward Snowden   \n",
       "label                                                1   \n",
       "\n",
       "                                                      18  \\\n",
       "text   Gaunt, Hollow-Eyed Big Bird Enters Sixth Day O...   \n",
       "label                                                  1   \n",
       "\n",
       "                                                      19  \\\n",
       "text   Court: 93-Year-Old Kills Wife Of 70 Years Beca...   \n",
       "label                                                  0   \n",
       "\n",
       "                                     20  \\\n",
       "text   What’s Next For Hillary Clinton?   \n",
       "label                                 1   \n",
       "\n",
       "                                                      21  \\\n",
       "text   Life: Animal Rights FTW! Popeyes Has Announced...   \n",
       "label                                                  1   \n",
       "\n",
       "                                                      22  \\\n",
       "text   Man Putting Off Starting Family To Focus On Tr...   \n",
       "label                                                  1   \n",
       "\n",
       "                                                      23  \\\n",
       "text   Coach’s Un-Athletic Son Going To Get Fucking R...   \n",
       "label                                                  1   \n",
       "\n",
       "                                                      24  \n",
       "text   Deputies ask man to quit calling about his sto...  \n",
       "label                                                  0  \n",
       "\n",
       "[2 rows x 25 columns]"
      ]
     },
     "execution_count": 11,
     "metadata": {},
     "output_type": "execute_result"
    }
   ],
   "source": [
    "df.head(25).T #this way you can display columns as rows."
   ]
  },
  {
   "cell_type": "code",
   "execution_count": 12,
   "metadata": {},
   "outputs": [],
   "source": [
    "# Checking for missing values\n",
    "df.dropna(inplace=True)"
   ]
  },
  {
   "cell_type": "code",
   "execution_count": 13,
   "metadata": {},
   "outputs": [],
   "source": [
    "# Define X (features) and y (labels)\n",
    "X = df['text']  # Headlines/articles\n",
    "y = df['label']  # 1 for Onion, 0 for NotTheOnion"
   ]
  },
  {
   "cell_type": "code",
   "execution_count": 14,
   "metadata": {},
   "outputs": [],
   "source": [
    "# Split dataset into training and testing sets\n",
    "X_train, X_test, y_train, y_test = train_test_split(X, y, test_size=0.25, random_state=42)"
   ]
  },
  {
   "cell_type": "code",
   "execution_count": null,
   "metadata": {},
   "outputs": [],
   "source": [
    "# Convert text data to numerical features using TF-IDF\n",
    "vectorizer = TfidfVectorizer(sublinear_tf=True, min_df=5, ngram_range=(1,2), stop_words='english')\n",
    "X_train_tfidf = vectorizer.fit_transform(X_train)\n",
    "X_test_tfidf = vectorizer.transform(X_test)"
   ]
  },
  {
   "cell_type": "code",
   "execution_count": 16,
   "metadata": {},
   "outputs": [],
   "source": [
    "# Train models\n",
    "models = [\n",
    "    RandomForestClassifier(n_estimators=100, max_depth=5, random_state=0),\n",
    "    LinearSVC(),\n",
    "    MultinomialNB(),\n",
    "    LogisticRegression(random_state=0),\n",
    "]"
   ]
  },
  {
   "cell_type": "code",
   "execution_count": 17,
   "metadata": {},
   "outputs": [],
   "source": [
    "# Cross-validation\n",
    "cv_results = {}\n",
    "for model in models:\n",
    "    model_name = model.__class__.__name__\n",
    "    accuracy = cross_val_score(model, X_train_tfidf, y_train, scoring='accuracy', cv=5).mean()\n",
    "    cv_results[model_name] = accuracy"
   ]
  },
  {
   "cell_type": "code",
   "execution_count": 18,
   "metadata": {},
   "outputs": [
    {
     "data": {
      "text/html": [
       "<div>\n",
       "<style scoped>\n",
       "    .dataframe tbody tr th:only-of-type {\n",
       "        vertical-align: middle;\n",
       "    }\n",
       "\n",
       "    .dataframe tbody tr th {\n",
       "        vertical-align: top;\n",
       "    }\n",
       "\n",
       "    .dataframe thead th {\n",
       "        text-align: right;\n",
       "    }\n",
       "</style>\n",
       "<table border=\"1\" class=\"dataframe\">\n",
       "  <thead>\n",
       "    <tr style=\"text-align: right;\">\n",
       "      <th></th>\n",
       "      <th>Accuracy</th>\n",
       "    </tr>\n",
       "  </thead>\n",
       "  <tbody>\n",
       "    <tr>\n",
       "      <th>RandomForestClassifier</th>\n",
       "      <td>0.626389</td>\n",
       "    </tr>\n",
       "    <tr>\n",
       "      <th>LinearSVC</th>\n",
       "      <td>0.816111</td>\n",
       "    </tr>\n",
       "    <tr>\n",
       "      <th>MultinomialNB</th>\n",
       "      <td>0.818889</td>\n",
       "    </tr>\n",
       "    <tr>\n",
       "      <th>LogisticRegression</th>\n",
       "      <td>0.818056</td>\n",
       "    </tr>\n",
       "  </tbody>\n",
       "</table>\n",
       "</div>"
      ],
      "text/plain": [
       "                        Accuracy\n",
       "RandomForestClassifier  0.626389\n",
       "LinearSVC               0.816111\n",
       "MultinomialNB           0.818889\n",
       "LogisticRegression      0.818056"
      ]
     },
     "metadata": {},
     "output_type": "display_data"
    }
   ],
   "source": [
    "# Display cross-validation results\n",
    "cv_df = pd.DataFrame.from_dict(cv_results, orient='index', columns=['Accuracy'])\n",
    "display(cv_df)"
   ]
  },
  {
   "cell_type": "code",
   "execution_count": 21,
   "metadata": {},
   "outputs": [],
   "source": [
    "# Train best model (LinearSVC for this case)\n",
    "model = MultinomialNB()\n",
    "model.fit(X_train_tfidf, y_train)\n",
    "y_pred = model.predict(X_test_tfidf)"
   ]
  },
  {
   "cell_type": "code",
   "execution_count": 22,
   "metadata": {},
   "outputs": [
    {
     "name": "stdout",
     "output_type": "stream",
     "text": [
      "Classification Report:\n",
      "               precision    recall  f1-score   support\n",
      "\n",
      "           0       0.82      0.93      0.87      3798\n",
      "           1       0.84      0.65      0.74      2202\n",
      "\n",
      "    accuracy                           0.83      6000\n",
      "   macro avg       0.83      0.79      0.80      6000\n",
      "weighted avg       0.83      0.83      0.82      6000\n",
      "\n"
     ]
    }
   ],
   "source": [
    "# Display classification report\n",
    "print(\"Classification Report:\\n\", classification_report(y_test, y_pred))"
   ]
  },
  {
   "cell_type": "code",
   "execution_count": 23,
   "metadata": {},
   "outputs": [
    {
     "data": {
      "image/png": "[encoded data removed]",
      "text/plain": [
       "<Figure size 600x600 with 2 Axes>"
      ]
     },
     "metadata": {},
     "output_type": "display_data"
    }
   ],
   "source": [
    "# Confusion Matrix\n",
    "conf_mat = confusion_matrix(y_test, y_pred)\n",
    "plt.figure(figsize=(6,6))\n",
    "sns.heatmap(conf_mat, annot=True, cmap=\"Blues\", fmt='d', xticklabels=['NotTheOnion', 'Onion'], yticklabels=['NotTheOnion', 'Onion'])\n",
    "plt.xlabel(\"Predicted\")\n",
    "plt.ylabel(\"Actual\")\n",
    "plt.title(\"Confusion Matrix\")\n",
    "plt.show()"
   ]
  },
  {
   "cell_type": "code",
   "execution_count": 24,
   "metadata": {},
   "outputs": [
    {
     "name": "stdout",
     "output_type": "stream",
     "text": [
      "Prediction: [0]\n"
     ]
    }
   ],
   "source": [
    "# Predicting new headlines\n",
    "new_headline = [\"Florida Man Robs Bank Using Alligator\"]\n",
    "new_tfidf = vectorizer.transform(new_headline)\n",
    "print(\"Prediction:\", model.predict(new_tfidf))"
   ]
  },
  {
   "cell_type": "markdown",
   "metadata": {},
   "source": [
    "### Results Summary:\n",
    "\n",
    "- **MultinomialNB (81.89%)**, **Logistic Regression (81.80%)**, and **LinearSVC (81.61%)** performed best, while **RandomForest (62.64%)** lagged.\n",
    "- The model correctly identifies **real news (93% recall)** but struggles with **satire (65% recall)**.\n",
    "- **Overall accuracy: 83%**, but some satire is misclassified as real.  \n",
    "- Further improvements could include **BERT, hyperparameter tuning, or feature engineering**."
   ]
  }
 ],
 "metadata": {
  "kernelspec": {
   "display_name": "Python 3",
   "language": "python",
   "name": "python3"
  },
  "language_info": {
   "codemirror_mode": {
    "name": "ipython",
    "version": 3
   },
   "file_extension": ".py",
   "mimetype": "text/x-python",
   "name": "python",
   "nbconvert_exporter": "python",
   "pygments_lexer": "ipython3",
   "version": "3.12.4"
  }
 },
 "nbformat": 4,
 "nbformat_minor": 2
}
